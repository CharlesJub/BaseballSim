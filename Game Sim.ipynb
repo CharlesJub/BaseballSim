{
 "cells": [
  {
   "cell_type": "code",
   "execution_count": 96,
   "id": "f7bef425",
   "metadata": {},
   "outputs": [],
   "source": [
    "import numpy\n",
    "from numpy import linalg\n",
    "import pandas\n",
    "import random\n",
    "\n",
    "def Transitional_Matrix(singles, doubles, triples, hr, walks, outs, plateAppearences):\n",
    "    pSingle = singles/float(plateAppearences)\n",
    "    pDouble = doubles/float(plateAppearences)\n",
    "    pTriple = triples/float(plateAppearences)\n",
    "    pHR = hr/float(plateAppearences)\n",
    "    pOut = outs/float(plateAppearences)\n",
    "    pWalk = walks/float(plateAppearences)\n",
    "    pWalkSingle = (walks+singles)/float(plateAppearences)\n",
    "\n",
    "    transition = numpy.matrix([\n",
    "                               [pHR,pWalkSingle,pDouble,pTriple,0,0,0,0,pOut,0,0,0,0,0,0,0,0,0,0,0,0,0,0,0,0],\n",
    "                               [pHR,0,0,pTriple,pWalkSingle,0,pDouble,0,0,pOut,0,0,0,0,0,0,0,0,0,0,0,0,0,0,0],\n",
    "                               [pHR,pSingle,pDouble,pTriple,pWalk,0,0,0,0,0,pOut,0,0,0,0,0,0,0,0,0,0,0,0,0,0],\n",
    "                               [pHR,pSingle,pDouble,pTriple,0,pWalk,0,0,0,0,0,pOut,0,0,0,0,0,0,0,0,0,0,0,0,0],\n",
    "                               [pHR,0,0,pTriple,pSingle,0,pDouble,pWalk,0,0,0,0,pOut,0,0,0,0,0,0,0,0,0,0,0,0],\n",
    "                               [pHR,0,0,pTriple,pSingle,0,pDouble,pWalk,0,0,0,0,0,pOut,0,0,0,0,0,0,0,0,0,0,0],\n",
    "                               [pHR,pSingle,pDouble,pTriple,0,0,0,pWalk,0,0,0,0,0,0,pOut,0,0,0,0,0,0,0,0,0,0],\n",
    "                               [pHR,0,0,pTriple,pSingle,0,pDouble,pWalk,0,0,0,0,0,0,0,pOut,0,0,0,0,0,0,0,0,0],\n",
    "                               [0,0,0,0,0,0,0,0,pHR,pWalkSingle,pDouble,pTriple,0,0,0,0,pOut,0,0,0,0,0,0,0,0],\n",
    "                               [0,0,0,0,0,0,0,0,pHR,0,0,pTriple,pWalkSingle,0,pDouble,0,0,pOut,0,0,0,0,0,0,0],\n",
    "                               [0,0,0,0,0,0,0,0,pHR,pSingle,pDouble,pTriple,pWalk,0,0,0,0,0,pOut,0,0,0,0,0,0],\n",
    "                               [0,0,0,0,0,0,0,0,pHR,pSingle,pDouble,pTriple,0,pWalk,0,0,0,0,0,pOut,0,0,0,0,0],\n",
    "                               [0,0,0,0,0,0,0,0,pHR,0,0,pTriple,pSingle,0,pDouble,pWalk,0,0,0,0,pOut,0,0,0,0],\n",
    "                               [0,0,0,0,0,0,0,0,pHR,0,0,pTriple,pSingle,0,pDouble,pWalk,0,0,0,0,0,pOut,0,0,0],\n",
    "                               [0,0,0,0,0,0,0,0,pHR,pSingle,pDouble,pTriple,0,0,0,pWalk,0,0,0,0,0,0,pOut,0,0],\n",
    "                               [0,0,0,0,0,0,0,0,pHR,0,0,pTriple,pSingle,0,pDouble,pWalk,0,0,0,0,0,0,0,pOut,0],\n",
    "                               [0,0,0,0,0,0,0,0,0,0,0,0,0,0,0,0,pHR,pWalkSingle,pDouble,pTriple,0,0,0,0,pOut],\n",
    "                               [0,0,0,0,0,0,0,0,0,0,0,0,0,0,0,0,pHR,0,0,pTriple,pWalkSingle,0,pDouble,0,pOut],\n",
    "                               [0,0,0,0,0,0,0,0,0,0,0,0,0,0,0,0,pHR,pSingle,pDouble,pTriple,pWalk,0,0,0,pOut],\n",
    "                               [0,0,0,0,0,0,0,0,0,0,0,0,0,0,0,0,pHR,pSingle,pDouble,pTriple,0,pWalk,0,0,pOut],\n",
    "                               [0,0,0,0,0,0,0,0,0,0,0,0,0,0,0,0,pHR,0,0,pTriple,pSingle,0,pDouble,pWalk,pOut],\n",
    "                               [0,0,0,0,0,0,0,0,0,0,0,0,0,0,0,0,pHR,0,0,pTriple,pSingle,0,pDouble,pWalk,pOut],\n",
    "                               [0,0,0,0,0,0,0,0,0,0,0,0,0,0,0,0,pHR,pSingle,pDouble,pTriple,0,0,0,pWalk,pOut],\n",
    "                               [0,0,0,0,0,0,0,0,0,0,0,0,0,0,0,0,pHR,0,0,pTriple,pSingle,0,pDouble,pWalk,pOut],\n",
    "                               [0,0,0,0,0,0,0,0,0,0,0,0,0,0,0,0,0,0,0,0,0,0,0,0,1]\n",
    "                               ])\n",
    "    \n",
    "    return transition\n",
    "\n"
   ]
  },
  {
   "cell_type": "code",
   "execution_count": 62,
   "id": "9e14b5e0",
   "metadata": {},
   "outputs": [
    {
     "name": "stdout",
     "output_type": "stream",
     "text": [
      "Stats 0.17197170645446508 0.05747126436781609 0.003978779840848806 0.029177718832891247 0.2891246684350133 0.6202475685234305 0.11715296198054818 1.2891246684350133\n",
      "Stats 0.15964343598055106 0.03808752025931929 0.004051863857374392 0.040113452188006486 0.336709886547812 0.5810372771474879 0.17706645056726095 1.3367098865478122\n"
     ]
    }
   ],
   "source": [
    "TeamA_Transition = Transitional_Matrix(389, 130, 9, 66, 265, 1403, 2262)\n",
    "TeamB_Transition = Transitional_Matrix(394, 94, 10, 99, 437, 1434, 2468)"
   ]
  },
  {
   "cell_type": "code",
   "execution_count": 215,
   "id": "461d7a70",
   "metadata": {
    "scrolled": false
   },
   "outputs": [],
   "source": [
    "run_matrix=pandas.read_csv(\"StateRuns.csv\")\n",
    "run_matrix = run_matrix.to_numpy()\n",
    "out_matrix=pandas.read_csv(\"Outs.csv\")\n",
    "out_matrix = out_matrix.to_numpy()"
   ]
  },
  {
   "cell_type": "code",
   "execution_count": 217,
   "id": "eceea2dc",
   "metadata": {
    "scrolled": false
   },
   "outputs": [],
   "source": [
    "def SimGame(TeamTransitionMatrix):\n",
    "    inning = 1\n",
    "    outs = 0 \n",
    "    score = 0\n",
    "    previous_state = 0\n",
    "    while(inning<10):\n",
    "        while(outs<3):\n",
    "            state_ids = [0,1,2,3,4,5,6,7,8,9,10,11,12,13,14,15,16,17,18,19,20,21,22,23,24]\n",
    "            previous_state_prob_list = (TeamTransitionMatrix[previous_state]*100).tolist()[0]\n",
    "            next_state_id = random.choices(z, weights=previous_state_prob_list)[0]\n",
    "            score += run_matrix[previous_state][next_state_id]\n",
    "            outs += out_matrix[previous_state][next_state_id]\n",
    "            previous_state = next_state_id\n",
    "        outs = 0\n",
    "        inning += 1\n",
    "        previous_state = 0\n",
    "    return score\n",
    "    "
   ]
  },
  {
   "cell_type": "code",
   "execution_count": 384,
   "id": "ca2baef6",
   "metadata": {},
   "outputs": [
    {
     "data": {
      "text/plain": [
       "5.988"
      ]
     },
     "execution_count": 384,
     "metadata": {},
     "output_type": "execute_result"
    }
   ],
   "source": [
    "sum_score = 0\n",
    "for x in range(1000):\n",
    "    n = SimGame(TeamA_Transition)\n",
    "    sum_score += n\n",
    "sum_score/1000"
   ]
  },
  {
   "cell_type": "code",
   "execution_count": 387,
   "id": "d37db396",
   "metadata": {},
   "outputs": [
    {
     "data": {
      "text/plain": [
       "8.359"
      ]
     },
     "execution_count": 387,
     "metadata": {},
     "output_type": "execute_result"
    }
   ],
   "source": [
    "sum_score = 0\n",
    "for x in range(1000):\n",
    "    n = SimGame(TeamB_Transition)\n",
    "    sum_score += n\n",
    "sum_score/1000"
   ]
  },
  {
   "cell_type": "code",
   "execution_count": null,
   "id": "3626e497",
   "metadata": {},
   "outputs": [],
   "source": []
  }
 ],
 "metadata": {
  "kernelspec": {
   "display_name": "Python 3 (ipykernel)",
   "language": "python",
   "name": "python3"
  },
  "language_info": {
   "codemirror_mode": {
    "name": "ipython",
    "version": 3
   },
   "file_extension": ".py",
   "mimetype": "text/x-python",
   "name": "python",
   "nbconvert_exporter": "python",
   "pygments_lexer": "ipython3",
   "version": "3.9.13"
  }
 },
 "nbformat": 4,
 "nbformat_minor": 5
}
