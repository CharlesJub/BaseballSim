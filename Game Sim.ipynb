{
 "cells": [
  {
   "cell_type": "code",
   "execution_count": 3,
   "id": "34199282",
   "metadata": {},
   "outputs": [],
   "source": [
    "import numpy\n",
    "from numpy import linalg\n",
    "import pandas\n",
    "import random\n",
    "# Code for Transitional_Matrix used from here https://github.com/vsharm/Markov-Baseball/blob/master/markov_baseball.py\n",
    "def Transitional_Matrix(singles, doubles, triples, hr, walks, outs, plateAppearences):\n",
    "    pSingle = singles/float(plateAppearences)\n",
    "    pDouble = doubles/float(plateAppearences)\n",
    "    pTriple = triples/float(plateAppearences)\n",
    "    pHR = hr/float(plateAppearences)\n",
    "    pOut = outs/float(plateAppearences)\n",
    "    pWalk = walks/float(plateAppearences)\n",
    "    pWalkSingle = (walks+singles)/float(plateAppearences)\n",
    "\n",
    "    transition = numpy.matrix([\n",
    "                               [pHR,pWalkSingle,pDouble,pTriple,0,0,0,0,pOut,0,0,0,0,0,0,0,0,0,0,0,0,0,0,0,0],\n",
    "                               [pHR,0,0,pTriple,pWalkSingle,0,pDouble,0,0,pOut,0,0,0,0,0,0,0,0,0,0,0,0,0,0,0],\n",
    "                               [pHR,pSingle,pDouble,pTriple,pWalk,0,0,0,0,0,pOut,0,0,0,0,0,0,0,0,0,0,0,0,0,0],\n",
    "                               [pHR,pSingle,pDouble,pTriple,0,pWalk,0,0,0,0,0,pOut,0,0,0,0,0,0,0,0,0,0,0,0,0],\n",
    "                               [pHR,0,0,pTriple,pSingle,0,pDouble,pWalk,0,0,0,0,pOut,0,0,0,0,0,0,0,0,0,0,0,0],\n",
    "                               [pHR,0,0,pTriple,pSingle,0,pDouble,pWalk,0,0,0,0,0,pOut,0,0,0,0,0,0,0,0,0,0,0],\n",
    "                               [pHR,pSingle,pDouble,pTriple,0,0,0,pWalk,0,0,0,0,0,0,pOut,0,0,0,0,0,0,0,0,0,0],\n",
    "                               [pHR,0,0,pTriple,pSingle,0,pDouble,pWalk,0,0,0,0,0,0,0,pOut,0,0,0,0,0,0,0,0,0],\n",
    "                               [0,0,0,0,0,0,0,0,pHR,pWalkSingle,pDouble,pTriple,0,0,0,0,pOut,0,0,0,0,0,0,0,0],\n",
    "                               [0,0,0,0,0,0,0,0,pHR,0,0,pTriple,pWalkSingle,0,pDouble,0,0,pOut,0,0,0,0,0,0,0],\n",
    "                               [0,0,0,0,0,0,0,0,pHR,pSingle,pDouble,pTriple,pWalk,0,0,0,0,0,pOut,0,0,0,0,0,0],\n",
    "                               [0,0,0,0,0,0,0,0,pHR,pSingle,pDouble,pTriple,0,pWalk,0,0,0,0,0,pOut,0,0,0,0,0],\n",
    "                               [0,0,0,0,0,0,0,0,pHR,0,0,pTriple,pSingle,0,pDouble,pWalk,0,0,0,0,pOut,0,0,0,0],\n",
    "                               [0,0,0,0,0,0,0,0,pHR,0,0,pTriple,pSingle,0,pDouble,pWalk,0,0,0,0,0,pOut,0,0,0],\n",
    "                               [0,0,0,0,0,0,0,0,pHR,pSingle,pDouble,pTriple,0,0,0,pWalk,0,0,0,0,0,0,pOut,0,0],\n",
    "                               [0,0,0,0,0,0,0,0,pHR,0,0,pTriple,pSingle,0,pDouble,pWalk,0,0,0,0,0,0,0,pOut,0],\n",
    "                               [0,0,0,0,0,0,0,0,0,0,0,0,0,0,0,0,pHR,pWalkSingle,pDouble,pTriple,0,0,0,0,pOut],\n",
    "                               [0,0,0,0,0,0,0,0,0,0,0,0,0,0,0,0,pHR,0,0,pTriple,pWalkSingle,0,pDouble,0,pOut],\n",
    "                               [0,0,0,0,0,0,0,0,0,0,0,0,0,0,0,0,pHR,pSingle,pDouble,pTriple,pWalk,0,0,0,pOut],\n",
    "                               [0,0,0,0,0,0,0,0,0,0,0,0,0,0,0,0,pHR,pSingle,pDouble,pTriple,0,pWalk,0,0,pOut],\n",
    "                               [0,0,0,0,0,0,0,0,0,0,0,0,0,0,0,0,pHR,0,0,pTriple,pSingle,0,pDouble,pWalk,pOut],\n",
    "                               [0,0,0,0,0,0,0,0,0,0,0,0,0,0,0,0,pHR,0,0,pTriple,pSingle,0,pDouble,pWalk,pOut],\n",
    "                               [0,0,0,0,0,0,0,0,0,0,0,0,0,0,0,0,pHR,pSingle,pDouble,pTriple,0,0,0,pWalk,pOut],\n",
    "                               [0,0,0,0,0,0,0,0,0,0,0,0,0,0,0,0,pHR,0,0,pTriple,pSingle,0,pDouble,pWalk,pOut],\n",
    "                               [0,0,0,0,0,0,0,0,0,0,0,0,0,0,0,0,0,0,0,0,0,0,0,0,1]\n",
    "                               ])\n",
    "    \n",
    "    return transition\n",
    "\n"
   ]
  },
  {
   "cell_type": "code",
   "execution_count": 4,
   "id": "cf8812dc",
   "metadata": {},
   "outputs": [],
   "source": [
    "TeamA_Transition = Transitional_Matrix(389, 130, 9, 66, 265, 1403, 2262)\n",
    "TeamB_Transition = Transitional_Matrix(394, 94, 10, 99, 437, 1434, 2468)"
   ]
  },
  {
   "cell_type": "code",
   "execution_count": 5,
   "id": "ca5b2fd9",
   "metadata": {
    "scrolled": false
   },
   "outputs": [],
   "source": [
    "run_matrix=pandas.read_csv(\"StateRuns.csv\")\n",
    "run_matrix = run_matrix.to_numpy()\n",
    "out_matrix=pandas.read_csv(\"Outs.csv\")\n",
    "out_matrix = out_matrix.to_numpy()"
   ]
  },
  {
   "cell_type": "code",
   "execution_count": 6,
   "id": "3ebc69ac",
   "metadata": {
    "scrolled": false
   },
   "outputs": [],
   "source": [
    "def SimGame_team(TeamTransitionMatrix):\n",
    "    # start at 1st inning \n",
    "    inning = 1\n",
    "    # start with zero outs\n",
    "    outs = 0 \n",
    "    # start with no score\n",
    "    score = 0 \n",
    "    # start at state that is 0 outs 0 on-base\n",
    "    previous_state = 0\n",
    "    # create state_ids to pick from with random.choices\n",
    "    state_ids = [0,1,2,3,4,5,6,7,8,9,10,11,12,13,14,15,16,17,18,19,20,21,22,23,24]\n",
    "    # loop through all 9 innings\n",
    "    while(inning<10):\n",
    "        # loop through 3 outs\n",
    "        while(outs<3):\n",
    "            # use current row of transitional matrix as weigths to pick next state\n",
    "            previous_state_prob_list = (TeamTransitionMatrix[previous_state]*100).tolist()[0]\n",
    "            next_state_id = random.choices(state_ids, weights=previous_state_prob_list)[0]\n",
    "            # add score to total if play scores runner\n",
    "            score += run_matrix[previous_state][next_state_id]\n",
    "            # add to outs if any occur durring transition\n",
    "            outs += out_matrix[previous_state][next_state_id]\n",
    "            # set previous state to next state \n",
    "            previous_state = next_state_id\n",
    "        # set outs to zero for new inning \n",
    "        outs = 0\n",
    "        # go to next inning \n",
    "        inning += 1\n",
    "        # start inning with 0 outs and 0 on base\n",
    "        previous_state = 0\n",
    "    return score\n",
    "    "
   ]
  },
  {
   "cell_type": "code",
   "execution_count": 20,
   "id": "c307b57f",
   "metadata": {},
   "outputs": [],
   "source": [
    "def avg_scores_team(Team_Transition, num_sim):\n",
    "    sum_score = 0\n",
    "    for x in range(num_sim):\n",
    "        n = SimGame_team(Team_Transition)\n",
    "        sum_score += n\n",
    "    return sum_score/num_sim"
   ]
  },
  {
   "cell_type": "code",
   "execution_count": 21,
   "id": "ef3aee9b",
   "metadata": {},
   "outputs": [
    {
     "data": {
      "text/plain": [
       "6.088"
      ]
     },
     "execution_count": 21,
     "metadata": {},
     "output_type": "execute_result"
    }
   ],
   "source": [
    "avg_scores_team(TeamA_Transition, 1000)"
   ]
  },
  {
   "cell_type": "code",
   "execution_count": 22,
   "id": "aa8bcad8",
   "metadata": {},
   "outputs": [
    {
     "data": {
      "text/plain": [
       "8.042"
      ]
     },
     "execution_count": 22,
     "metadata": {},
     "output_type": "execute_result"
    }
   ],
   "source": [
    "avg_scores_team(TeamB_Transition, 1000)"
   ]
  },
  {
   "cell_type": "code",
   "execution_count": 9,
   "id": "5c5ac1c8",
   "metadata": {},
   "outputs": [],
   "source": [
    "TeamA_Batters = pandas.read_csv(\"TeamA-Players Stats.csv\")\n",
    "TeamB_Batters = pandas.read_csv(\"TeamB-Players Stats.csv\")"
   ]
  },
  {
   "cell_type": "code",
   "execution_count": 11,
   "id": "45b9299e",
   "metadata": {},
   "outputs": [],
   "source": [
    "def SimGame_lineup(BatterData, BattingOrder: list):\n",
    "    # translate BattingOrder to working list values\n",
    "    BattingOrder = [x - 1 for x in BattingOrder]\n",
    "    # start at 1st inning \n",
    "    inning = 1\n",
    "    # start with zero outs\n",
    "    outs = 0 \n",
    "    # start with no score\n",
    "    score = 0 \n",
    "    # start at state that is 0 outs 0 on-base\n",
    "    previous_state = 0\n",
    "    batter = 0\n",
    "\n",
    "    # create state_ids to pick from with random.choices\n",
    "    state_ids = [0,1,2,3,4,5,6,7,8,9,10,11,12,13,14,15,16,17,18,19,20,21,22,23,24]\n",
    "    # loop through all 9 innings\n",
    "    while(inning<10):\n",
    "        # loop through 3 outs\n",
    "        while(outs<3):\n",
    "            # get current batters transitional matrix\n",
    "            BatterTransitional = Transitional_Matrix(BatterData.iloc[BattingOrder[batter]][4],\n",
    "                                                     BatterData.iloc[BattingOrder[batter]][5], \n",
    "                                                     BatterData.iloc[BattingOrder[batter]][6], \n",
    "                                                     BatterData.iloc[BattingOrder[batter]][7], \n",
    "                                                     BatterData.iloc[BattingOrder[batter]][8], \n",
    "                                                     BatterData.iloc[BattingOrder[batter]][9], \n",
    "                                                     BatterData.iloc[BattingOrder[batter]][1])\n",
    "            # use current row of transitional matrix as weigths to pick next state\n",
    "            previous_state_prob_list = (BatterTransitional[previous_state]*100).tolist()[0]\n",
    "            next_state_id = random.choices(state_ids, weights=previous_state_prob_list)[0]\n",
    "            # add score to total if play scores runner\n",
    "            score += run_matrix[previous_state][next_state_id]\n",
    "            # move to next batter in batting order\n",
    "            if batter < 8:\n",
    "                batter += 1\n",
    "            else:\n",
    "                batter = 0\n",
    "            # add to outs if any occur durring transition\n",
    "            outs += out_matrix[previous_state][next_state_id]\n",
    "            # set previous state to next state \n",
    "            previous_state = next_state_id\n",
    "        # set outs to zero for new inning \n",
    "        outs = 0\n",
    "        # go to next inning \n",
    "        inning += 1\n",
    "        # start inning with 0 outs and 0 on base\n",
    "        previous_state = 0\n",
    "    return score\n",
    "    "
   ]
  },
  {
   "cell_type": "code",
   "execution_count": 16,
   "id": "97d7fe51",
   "metadata": {},
   "outputs": [],
   "source": [
    "def avg_scores_lineup(TeamBatterStats, num_sim, BattingOrder):\n",
    "    sum_score = 0\n",
    "    for x in range(num_sim):\n",
    "        n = SimGame_lineup(TeamBatterStats, BattingOrder)\n",
    "        sum_score += n\n",
    "    return sum_score/num_sim\n"
   ]
  },
  {
   "cell_type": "code",
   "execution_count": 17,
   "id": "2f9451e6",
   "metadata": {},
   "outputs": [
    {
     "data": {
      "text/plain": [
       "6.36"
      ]
     },
     "execution_count": 17,
     "metadata": {},
     "output_type": "execute_result"
    }
   ],
   "source": [
    "avg_scores_lineup(TeamA_Batters, 100, [1,2,3,4,5,6,7,8,9])"
   ]
  },
  {
   "cell_type": "code",
   "execution_count": 18,
   "id": "72d01d07",
   "metadata": {},
   "outputs": [
    {
     "data": {
      "text/plain": [
       "9.53"
      ]
     },
     "execution_count": 18,
     "metadata": {},
     "output_type": "execute_result"
    }
   ],
   "source": [
    "avg_scores_lineup(TeamB_Batters, 100, [1,2,3,4,5,6,7,8,9])"
   ]
  },
  {
   "cell_type": "code",
   "execution_count": 31,
   "id": "483d3999",
   "metadata": {},
   "outputs": [],
   "source": [
    "def sim_batting_orders(initial_batting_order, num_sim, num_orders):\n",
    "    batting_stats = pandas.DataFrame(data={\"Batting Order\":[], \"Team A Scores\":[], \"Team B Scores\":[]})\n",
    "    batting_order = initial_batting_order\n",
    "    for z in range(num_orders):\n",
    "            sum_score_a = 0 \n",
    "            sum_score_b = 0 \n",
    "            sum_score_a = avg_scores_lineup(TeamB_Batters, num_sim, batting_order)\n",
    "            sum_score_b =avg_scores_lineup(TeamB_Batters, num_sim, batting_order)\n",
    "            batting_stats.loc[len(batting_stats.index)] = [''.join(str(x) for x in batting_order), sum_score_a, sum_score_b]\n",
    "            random.shuffle(batting_order)        \n",
    "    return batting_stats"
   ]
  },
  {
   "cell_type": "code",
   "execution_count": 32,
   "id": "62a81274",
   "metadata": {},
   "outputs": [],
   "source": [
    "batting_stats = sim_batting_orders([1,2,3,4,5,6,7,8,9], 100, 15)"
   ]
  },
  {
   "cell_type": "code",
   "execution_count": 33,
   "id": "266e6aba",
   "metadata": {},
   "outputs": [
    {
     "data": {
      "text/html": [
       "<div>\n",
       "<style scoped>\n",
       "    .dataframe tbody tr th:only-of-type {\n",
       "        vertical-align: middle;\n",
       "    }\n",
       "\n",
       "    .dataframe tbody tr th {\n",
       "        vertical-align: top;\n",
       "    }\n",
       "\n",
       "    .dataframe thead th {\n",
       "        text-align: right;\n",
       "    }\n",
       "</style>\n",
       "<table border=\"1\" class=\"dataframe\">\n",
       "  <thead>\n",
       "    <tr style=\"text-align: right;\">\n",
       "      <th></th>\n",
       "      <th>Batting Order</th>\n",
       "      <th>Team A Scores</th>\n",
       "      <th>Team B Scores</th>\n",
       "    </tr>\n",
       "  </thead>\n",
       "  <tbody>\n",
       "    <tr>\n",
       "      <th>0</th>\n",
       "      <td>123456789</td>\n",
       "      <td>8.58</td>\n",
       "      <td>9.44</td>\n",
       "    </tr>\n",
       "    <tr>\n",
       "      <th>1</th>\n",
       "      <td>719842365</td>\n",
       "      <td>8.77</td>\n",
       "      <td>9.61</td>\n",
       "    </tr>\n",
       "    <tr>\n",
       "      <th>2</th>\n",
       "      <td>371645892</td>\n",
       "      <td>8.14</td>\n",
       "      <td>7.72</td>\n",
       "    </tr>\n",
       "    <tr>\n",
       "      <th>3</th>\n",
       "      <td>452971638</td>\n",
       "      <td>8.91</td>\n",
       "      <td>9.41</td>\n",
       "    </tr>\n",
       "    <tr>\n",
       "      <th>4</th>\n",
       "      <td>359624817</td>\n",
       "      <td>9.06</td>\n",
       "      <td>8.70</td>\n",
       "    </tr>\n",
       "    <tr>\n",
       "      <th>5</th>\n",
       "      <td>564193728</td>\n",
       "      <td>9.29</td>\n",
       "      <td>8.91</td>\n",
       "    </tr>\n",
       "    <tr>\n",
       "      <th>6</th>\n",
       "      <td>159378462</td>\n",
       "      <td>8.72</td>\n",
       "      <td>9.27</td>\n",
       "    </tr>\n",
       "    <tr>\n",
       "      <th>7</th>\n",
       "      <td>891453672</td>\n",
       "      <td>9.09</td>\n",
       "      <td>8.40</td>\n",
       "    </tr>\n",
       "    <tr>\n",
       "      <th>8</th>\n",
       "      <td>795831624</td>\n",
       "      <td>8.18</td>\n",
       "      <td>7.81</td>\n",
       "    </tr>\n",
       "    <tr>\n",
       "      <th>9</th>\n",
       "      <td>781329456</td>\n",
       "      <td>8.11</td>\n",
       "      <td>8.92</td>\n",
       "    </tr>\n",
       "    <tr>\n",
       "      <th>10</th>\n",
       "      <td>781352469</td>\n",
       "      <td>9.65</td>\n",
       "      <td>8.85</td>\n",
       "    </tr>\n",
       "    <tr>\n",
       "      <th>11</th>\n",
       "      <td>718235694</td>\n",
       "      <td>9.45</td>\n",
       "      <td>9.29</td>\n",
       "    </tr>\n",
       "    <tr>\n",
       "      <th>12</th>\n",
       "      <td>641275389</td>\n",
       "      <td>8.87</td>\n",
       "      <td>8.87</td>\n",
       "    </tr>\n",
       "    <tr>\n",
       "      <th>13</th>\n",
       "      <td>425619873</td>\n",
       "      <td>8.07</td>\n",
       "      <td>8.54</td>\n",
       "    </tr>\n",
       "    <tr>\n",
       "      <th>14</th>\n",
       "      <td>549213876</td>\n",
       "      <td>9.03</td>\n",
       "      <td>8.39</td>\n",
       "    </tr>\n",
       "  </tbody>\n",
       "</table>\n",
       "</div>"
      ],
      "text/plain": [
       "   Batting Order  Team A Scores  Team B Scores\n",
       "0      123456789           8.58           9.44\n",
       "1      719842365           8.77           9.61\n",
       "2      371645892           8.14           7.72\n",
       "3      452971638           8.91           9.41\n",
       "4      359624817           9.06           8.70\n",
       "5      564193728           9.29           8.91\n",
       "6      159378462           8.72           9.27\n",
       "7      891453672           9.09           8.40\n",
       "8      795831624           8.18           7.81\n",
       "9      781329456           8.11           8.92\n",
       "10     781352469           9.65           8.85\n",
       "11     718235694           9.45           9.29\n",
       "12     641275389           8.87           8.87\n",
       "13     425619873           8.07           8.54\n",
       "14     549213876           9.03           8.39"
      ]
     },
     "execution_count": 33,
     "metadata": {},
     "output_type": "execute_result"
    }
   ],
   "source": [
    "batting_stats"
   ]
  },
  {
   "cell_type": "code",
   "execution_count": 53,
   "id": "b8ce76c0",
   "metadata": {},
   "outputs": [],
   "source": [
    "def SimGames(num_games): \n",
    "    A_wins = 0\n",
    "    B_wins = 0 \n",
    "    extra_innings = 0\n",
    "    for x in range(num_games):\n",
    "        score_a = avg_scores_team(TeamA_Transition, 1)\n",
    "        score_b = avg_scores_team(TeamB_Transition, 1)\n",
    "        if score_a > score_b:\n",
    "            A_wins += 1\n",
    "        if score_b > score_a:\n",
    "            B_wins += 1\n",
    "        if score_b == score_a:\n",
    "            extra_innings += 1\n",
    "    print(f\"Total Games: {num_games} \\n ---------------------- \\n A Wins: {A_wins} | B Wins: {B_wins} \\n Extra inning games: {extra_innings}\")"
   ]
  },
  {
   "cell_type": "code",
   "execution_count": 54,
   "id": "4a3593dd",
   "metadata": {},
   "outputs": [
    {
     "name": "stdout",
     "output_type": "stream",
     "text": [
      "Total Games: 1000 \n",
      " ---------------------- \n",
      " A Wins: 321 | B Wins: 612 \n",
      " Extra inning games: 67\n"
     ]
    }
   ],
   "source": [
    "SimGames(1000)"
   ]
  },
  {
   "cell_type": "code",
   "execution_count": null,
   "id": "aa18610e",
   "metadata": {},
   "outputs": [],
   "source": []
  }
 ],
 "metadata": {
  "kernelspec": {
   "display_name": "Python 3 (ipykernel)",
   "language": "python",
   "name": "python3"
  },
  "language_info": {
   "codemirror_mode": {
    "name": "ipython",
    "version": 3
   },
   "file_extension": ".py",
   "mimetype": "text/x-python",
   "name": "python",
   "nbconvert_exporter": "python",
   "pygments_lexer": "ipython3",
   "version": "3.9.13"
  }
 },
 "nbformat": 4,
 "nbformat_minor": 5
}
