{
 "cells": [
  {
   "cell_type": "code",
   "execution_count": 1,
   "id": "34199282",
   "metadata": {},
   "outputs": [],
   "source": [
    "import numpy\n",
    "from numpy import linalg\n",
    "import pandas\n",
    "import random\n",
    "# Code for Transitional_Matrix used from here https://github.com/vsharm/Markov-Baseball/blob/master/markov_baseball.py\n",
    "def Transitional_Matrix(singles, doubles, triples, hr, walks, outs, plateAppearences):\n",
    "    pSingle = singles/float(plateAppearences)\n",
    "    pDouble = doubles/float(plateAppearences)\n",
    "    pTriple = triples/float(plateAppearences)\n",
    "    pHR = hr/float(plateAppearences)\n",
    "    pOut = outs/float(plateAppearences)\n",
    "    pWalk = walks/float(plateAppearences)\n",
    "    pWalkSingle = (walks+singles)/float(plateAppearences)\n",
    "\n",
    "    transition = numpy.matrix([\n",
    "                               [pHR,pWalkSingle,pDouble,pTriple,0,0,0,0,pOut,0,0,0,0,0,0,0,0,0,0,0,0,0,0,0,0],\n",
    "                               [pHR,0,0,pTriple,pWalkSingle,0,pDouble,0,0,pOut,0,0,0,0,0,0,0,0,0,0,0,0,0,0,0],\n",
    "                               [pHR,pSingle,pDouble,pTriple,pWalk,0,0,0,0,0,pOut,0,0,0,0,0,0,0,0,0,0,0,0,0,0],\n",
    "                               [pHR,pSingle,pDouble,pTriple,0,pWalk,0,0,0,0,0,pOut,0,0,0,0,0,0,0,0,0,0,0,0,0],\n",
    "                               [pHR,0,0,pTriple,pSingle,0,pDouble,pWalk,0,0,0,0,pOut,0,0,0,0,0,0,0,0,0,0,0,0],\n",
    "                               [pHR,0,0,pTriple,pSingle,0,pDouble,pWalk,0,0,0,0,0,pOut,0,0,0,0,0,0,0,0,0,0,0],\n",
    "                               [pHR,pSingle,pDouble,pTriple,0,0,0,pWalk,0,0,0,0,0,0,pOut,0,0,0,0,0,0,0,0,0,0],\n",
    "                               [pHR,0,0,pTriple,pSingle,0,pDouble,pWalk,0,0,0,0,0,0,0,pOut,0,0,0,0,0,0,0,0,0],\n",
    "                               [0,0,0,0,0,0,0,0,pHR,pWalkSingle,pDouble,pTriple,0,0,0,0,pOut,0,0,0,0,0,0,0,0],\n",
    "                               [0,0,0,0,0,0,0,0,pHR,0,0,pTriple,pWalkSingle,0,pDouble,0,0,pOut,0,0,0,0,0,0,0],\n",
    "                               [0,0,0,0,0,0,0,0,pHR,pSingle,pDouble,pTriple,pWalk,0,0,0,0,0,pOut,0,0,0,0,0,0],\n",
    "                               [0,0,0,0,0,0,0,0,pHR,pSingle,pDouble,pTriple,0,pWalk,0,0,0,0,0,pOut,0,0,0,0,0],\n",
    "                               [0,0,0,0,0,0,0,0,pHR,0,0,pTriple,pSingle,0,pDouble,pWalk,0,0,0,0,pOut,0,0,0,0],\n",
    "                               [0,0,0,0,0,0,0,0,pHR,0,0,pTriple,pSingle,0,pDouble,pWalk,0,0,0,0,0,pOut,0,0,0],\n",
    "                               [0,0,0,0,0,0,0,0,pHR,pSingle,pDouble,pTriple,0,0,0,pWalk,0,0,0,0,0,0,pOut,0,0],\n",
    "                               [0,0,0,0,0,0,0,0,pHR,0,0,pTriple,pSingle,0,pDouble,pWalk,0,0,0,0,0,0,0,pOut,0],\n",
    "                               [0,0,0,0,0,0,0,0,0,0,0,0,0,0,0,0,pHR,pWalkSingle,pDouble,pTriple,0,0,0,0,pOut],\n",
    "                               [0,0,0,0,0,0,0,0,0,0,0,0,0,0,0,0,pHR,0,0,pTriple,pWalkSingle,0,pDouble,0,pOut],\n",
    "                               [0,0,0,0,0,0,0,0,0,0,0,0,0,0,0,0,pHR,pSingle,pDouble,pTriple,pWalk,0,0,0,pOut],\n",
    "                               [0,0,0,0,0,0,0,0,0,0,0,0,0,0,0,0,pHR,pSingle,pDouble,pTriple,0,pWalk,0,0,pOut],\n",
    "                               [0,0,0,0,0,0,0,0,0,0,0,0,0,0,0,0,pHR,0,0,pTriple,pSingle,0,pDouble,pWalk,pOut],\n",
    "                               [0,0,0,0,0,0,0,0,0,0,0,0,0,0,0,0,pHR,0,0,pTriple,pSingle,0,pDouble,pWalk,pOut],\n",
    "                               [0,0,0,0,0,0,0,0,0,0,0,0,0,0,0,0,pHR,pSingle,pDouble,pTriple,0,0,0,pWalk,pOut],\n",
    "                               [0,0,0,0,0,0,0,0,0,0,0,0,0,0,0,0,pHR,0,0,pTriple,pSingle,0,pDouble,pWalk,pOut],\n",
    "                               [0,0,0,0,0,0,0,0,0,0,0,0,0,0,0,0,0,0,0,0,0,0,0,0,1]\n",
    "                               ])\n",
    "    \n",
    "    return transition\n",
    "\n"
   ]
  },
  {
   "cell_type": "code",
   "execution_count": 2,
   "id": "cf8812dc",
   "metadata": {},
   "outputs": [],
   "source": [
    "TeamA_Transition = Transitional_Matrix(389, 130, 9, 66, 265, 1403, 2262)\n",
    "TeamB_Transition = Transitional_Matrix(394, 94, 10, 99, 437, 1434, 2468)"
   ]
  },
  {
   "cell_type": "code",
   "execution_count": 3,
   "id": "ca5b2fd9",
   "metadata": {
    "scrolled": false
   },
   "outputs": [],
   "source": [
    "run_matrix=pandas.read_csv(\"StateRuns.csv\")\n",
    "run_matrix = run_matrix.to_numpy()\n",
    "out_matrix=pandas.read_csv(\"Outs.csv\")\n",
    "out_matrix = out_matrix.to_numpy()"
   ]
  },
  {
   "cell_type": "code",
   "execution_count": 4,
   "id": "3ebc69ac",
   "metadata": {
    "scrolled": false
   },
   "outputs": [],
   "source": [
    "def SimGame_team(TeamTransitionMatrix):\n",
    "    # start at 1st inning \n",
    "    inning = 1\n",
    "    # start with zero outs\n",
    "    outs = 0 \n",
    "    # start with no score\n",
    "    score = 0 \n",
    "    # start at state that is 0 outs 0 on-base\n",
    "    previous_state = 0\n",
    "    # create state_ids to pick from with random.choices\n",
    "    state_ids = [0,1,2,3,4,5,6,7,8,9,10,11,12,13,14,15,16,17,18,19,20,21,22,23,24]\n",
    "    # loop through all 9 innings\n",
    "    while(inning<10):\n",
    "        # loop through 3 outs\n",
    "        while(outs<3):\n",
    "            # use current row of transitional matrix as weigths to pick next state\n",
    "            previous_state_prob_list = (TeamTransitionMatrix[previous_state]*100).tolist()[0]\n",
    "            next_state_id = random.choices(state_ids, weights=previous_state_prob_list)[0]\n",
    "            # add score to total if play scores runner\n",
    "            score += run_matrix[previous_state][next_state_id]\n",
    "            # add to outs if any occur durring transition\n",
    "            outs += out_matrix[previous_state][next_state_id]\n",
    "            # set previous state to next state \n",
    "            previous_state = next_state_id\n",
    "        # set outs to zero for new inning \n",
    "        outs = 0\n",
    "        # go to next inning \n",
    "        inning += 1\n",
    "        # start inning with 0 outs and 0 on base\n",
    "        previous_state = 0\n",
    "    return score\n",
    "    "
   ]
  },
  {
   "cell_type": "code",
   "execution_count": 5,
   "id": "c307b57f",
   "metadata": {},
   "outputs": [],
   "source": [
    "def avg_scores_team(Team_Transition, num_sim):\n",
    "    sum_score = 0\n",
    "    for x in range(num_sim):\n",
    "        n = SimGame_team(Team_Transition)\n",
    "        sum_score += n\n",
    "    return sum_score/num_sim"
   ]
  },
  {
   "cell_type": "code",
   "execution_count": 6,
   "id": "ef3aee9b",
   "metadata": {},
   "outputs": [
    {
     "data": {
      "text/plain": [
       "6.441"
      ]
     },
     "execution_count": 6,
     "metadata": {},
     "output_type": "execute_result"
    }
   ],
   "source": [
    "avg_scores_team(TeamA_Transition, 1000)"
   ]
  },
  {
   "cell_type": "code",
   "execution_count": 7,
   "id": "aa8bcad8",
   "metadata": {},
   "outputs": [
    {
     "data": {
      "text/plain": [
       "8.168"
      ]
     },
     "execution_count": 7,
     "metadata": {},
     "output_type": "execute_result"
    }
   ],
   "source": [
    "avg_scores_team(TeamB_Transition, 1000)"
   ]
  },
  {
   "cell_type": "code",
   "execution_count": 8,
   "id": "5c5ac1c8",
   "metadata": {},
   "outputs": [],
   "source": [
    "TeamA_Batters = pandas.read_csv(\"TeamA-Players Stats.csv\")\n",
    "TeamB_Batters = pandas.read_csv(\"TeamB-Players Stats.csv\")"
   ]
  },
  {
   "cell_type": "code",
   "execution_count": 9,
   "id": "45b9299e",
   "metadata": {},
   "outputs": [],
   "source": [
    "def SimGame_lineup(BatterData, BattingOrder: list):\n",
    "    # translate BattingOrder to working list values\n",
    "    BattingOrder = [x - 1 for x in BattingOrder]\n",
    "    # start at 1st inning \n",
    "    inning = 1\n",
    "    # start with zero outs\n",
    "    outs = 0 \n",
    "    # start with no score\n",
    "    score = 0 \n",
    "    # start at state that is 0 outs 0 on-base\n",
    "    previous_state = 0\n",
    "    batter = 0\n",
    "\n",
    "    # create state_ids to pick from with random.choices\n",
    "    state_ids = [0,1,2,3,4,5,6,7,8,9,10,11,12,13,14,15,16,17,18,19,20,21,22,23,24]\n",
    "    # loop through all 9 innings\n",
    "    while(inning<10):\n",
    "        # loop through 3 outs\n",
    "        while(outs<3):\n",
    "            # get current batters transitional matrix\n",
    "            BatterTransitional = Transitional_Matrix(BatterData.iloc[BattingOrder[batter]][4],\n",
    "                                                     BatterData.iloc[BattingOrder[batter]][5], \n",
    "                                                     BatterData.iloc[BattingOrder[batter]][6], \n",
    "                                                     BatterData.iloc[BattingOrder[batter]][7], \n",
    "                                                     BatterData.iloc[BattingOrder[batter]][8], \n",
    "                                                     BatterData.iloc[BattingOrder[batter]][9], \n",
    "                                                     BatterData.iloc[BattingOrder[batter]][1])\n",
    "            # use current row of transitional matrix as weigths to pick next state\n",
    "            previous_state_prob_list = (BatterTransitional[previous_state]*100).tolist()[0]\n",
    "            next_state_id = random.choices(state_ids, weights=previous_state_prob_list)[0]\n",
    "            # add score to total if play scores runner\n",
    "            score += run_matrix[previous_state][next_state_id]\n",
    "            # move to next batter in batting order\n",
    "            if batter < 8:\n",
    "                batter += 1\n",
    "            else:\n",
    "                batter = 0\n",
    "            # add to outs if any occur durring transition\n",
    "            outs += out_matrix[previous_state][next_state_id]\n",
    "            # set previous state to next state \n",
    "            previous_state = next_state_id\n",
    "        # set outs to zero for new inning \n",
    "        outs = 0\n",
    "        # go to next inning \n",
    "        inning += 1\n",
    "        # start inning with 0 outs and 0 on base\n",
    "        previous_state = 0\n",
    "    return score\n",
    "    "
   ]
  },
  {
   "cell_type": "code",
   "execution_count": 10,
   "id": "97d7fe51",
   "metadata": {},
   "outputs": [],
   "source": [
    "def avg_scores_lineup(TeamBatterStats, num_sim, BattingOrder):\n",
    "    sum_score = 0\n",
    "    for x in range(num_sim):\n",
    "        n = SimGame_lineup(TeamBatterStats, BattingOrder)\n",
    "        sum_score += n\n",
    "    return sum_score/num_sim\n"
   ]
  },
  {
   "cell_type": "code",
   "execution_count": 11,
   "id": "2f9451e6",
   "metadata": {},
   "outputs": [
    {
     "data": {
      "text/plain": [
       "7.41"
      ]
     },
     "execution_count": 11,
     "metadata": {},
     "output_type": "execute_result"
    }
   ],
   "source": [
    "avg_scores_lineup(TeamA_Batters, 100, [1,2,3,4,5,6,7,8,9])"
   ]
  },
  {
   "cell_type": "code",
   "execution_count": 12,
   "id": "72d01d07",
   "metadata": {},
   "outputs": [
    {
     "data": {
      "text/plain": [
       "9.47"
      ]
     },
     "execution_count": 12,
     "metadata": {},
     "output_type": "execute_result"
    }
   ],
   "source": [
    "avg_scores_lineup(TeamB_Batters, 100, [1,2,3,4,5,6,7,8,9])"
   ]
  },
  {
   "cell_type": "code",
   "execution_count": 13,
   "id": "483d3999",
   "metadata": {},
   "outputs": [],
   "source": [
    "def sim_batting_orders(initial_batting_order, num_sim, num_orders):\n",
    "    batting_stats = pandas.DataFrame(data={\"Batting Order\":[], \"Team A Scores\":[], \"Team B Scores\":[]})\n",
    "    batting_order = initial_batting_order\n",
    "    for z in range(num_orders):\n",
    "            sum_score_a = 0 \n",
    "            sum_score_b = 0 \n",
    "            sum_score_a = avg_scores_lineup(TeamB_Batters, num_sim, batting_order)\n",
    "            sum_score_b =avg_scores_lineup(TeamB_Batters, num_sim, batting_order)\n",
    "            batting_stats.loc[len(batting_stats.index)] = [''.join(str(x) for x in batting_order), sum_score_a, sum_score_b]\n",
    "            random.shuffle(batting_order)        \n",
    "    return batting_stats"
   ]
  },
  {
   "cell_type": "code",
   "execution_count": 14,
   "id": "62a81274",
   "metadata": {},
   "outputs": [],
   "source": [
    "batting_stats = sim_batting_orders([1,2,3,4,5,6,7,8,9], 100, 15)"
   ]
  },
  {
   "cell_type": "code",
   "execution_count": 15,
   "id": "266e6aba",
   "metadata": {},
   "outputs": [
    {
     "data": {
      "text/html": [
       "<div>\n",
       "<style scoped>\n",
       "    .dataframe tbody tr th:only-of-type {\n",
       "        vertical-align: middle;\n",
       "    }\n",
       "\n",
       "    .dataframe tbody tr th {\n",
       "        vertical-align: top;\n",
       "    }\n",
       "\n",
       "    .dataframe thead th {\n",
       "        text-align: right;\n",
       "    }\n",
       "</style>\n",
       "<table border=\"1\" class=\"dataframe\">\n",
       "  <thead>\n",
       "    <tr style=\"text-align: right;\">\n",
       "      <th></th>\n",
       "      <th>Batting Order</th>\n",
       "      <th>Team A Scores</th>\n",
       "      <th>Team B Scores</th>\n",
       "    </tr>\n",
       "  </thead>\n",
       "  <tbody>\n",
       "    <tr>\n",
       "      <th>0</th>\n",
       "      <td>123456789</td>\n",
       "      <td>7.97</td>\n",
       "      <td>8.64</td>\n",
       "    </tr>\n",
       "    <tr>\n",
       "      <th>1</th>\n",
       "      <td>573198426</td>\n",
       "      <td>8.58</td>\n",
       "      <td>8.82</td>\n",
       "    </tr>\n",
       "    <tr>\n",
       "      <th>2</th>\n",
       "      <td>342897615</td>\n",
       "      <td>8.76</td>\n",
       "      <td>8.88</td>\n",
       "    </tr>\n",
       "    <tr>\n",
       "      <th>3</th>\n",
       "      <td>163427589</td>\n",
       "      <td>9.08</td>\n",
       "      <td>8.46</td>\n",
       "    </tr>\n",
       "    <tr>\n",
       "      <th>4</th>\n",
       "      <td>238654719</td>\n",
       "      <td>8.71</td>\n",
       "      <td>8.59</td>\n",
       "    </tr>\n",
       "    <tr>\n",
       "      <th>5</th>\n",
       "      <td>649382751</td>\n",
       "      <td>9.07</td>\n",
       "      <td>8.79</td>\n",
       "    </tr>\n",
       "    <tr>\n",
       "      <th>6</th>\n",
       "      <td>275863419</td>\n",
       "      <td>8.88</td>\n",
       "      <td>7.76</td>\n",
       "    </tr>\n",
       "    <tr>\n",
       "      <th>7</th>\n",
       "      <td>297186453</td>\n",
       "      <td>8.39</td>\n",
       "      <td>8.72</td>\n",
       "    </tr>\n",
       "    <tr>\n",
       "      <th>8</th>\n",
       "      <td>256419378</td>\n",
       "      <td>9.15</td>\n",
       "      <td>9.03</td>\n",
       "    </tr>\n",
       "    <tr>\n",
       "      <th>9</th>\n",
       "      <td>542136987</td>\n",
       "      <td>8.46</td>\n",
       "      <td>9.39</td>\n",
       "    </tr>\n",
       "    <tr>\n",
       "      <th>10</th>\n",
       "      <td>194852376</td>\n",
       "      <td>8.30</td>\n",
       "      <td>8.80</td>\n",
       "    </tr>\n",
       "    <tr>\n",
       "      <th>11</th>\n",
       "      <td>287945361</td>\n",
       "      <td>9.16</td>\n",
       "      <td>9.40</td>\n",
       "    </tr>\n",
       "    <tr>\n",
       "      <th>12</th>\n",
       "      <td>893752461</td>\n",
       "      <td>8.39</td>\n",
       "      <td>8.76</td>\n",
       "    </tr>\n",
       "    <tr>\n",
       "      <th>13</th>\n",
       "      <td>851769234</td>\n",
       "      <td>7.85</td>\n",
       "      <td>8.87</td>\n",
       "    </tr>\n",
       "    <tr>\n",
       "      <th>14</th>\n",
       "      <td>281457639</td>\n",
       "      <td>8.21</td>\n",
       "      <td>8.57</td>\n",
       "    </tr>\n",
       "  </tbody>\n",
       "</table>\n",
       "</div>"
      ],
      "text/plain": [
       "   Batting Order  Team A Scores  Team B Scores\n",
       "0      123456789           7.97           8.64\n",
       "1      573198426           8.58           8.82\n",
       "2      342897615           8.76           8.88\n",
       "3      163427589           9.08           8.46\n",
       "4      238654719           8.71           8.59\n",
       "5      649382751           9.07           8.79\n",
       "6      275863419           8.88           7.76\n",
       "7      297186453           8.39           8.72\n",
       "8      256419378           9.15           9.03\n",
       "9      542136987           8.46           9.39\n",
       "10     194852376           8.30           8.80\n",
       "11     287945361           9.16           9.40\n",
       "12     893752461           8.39           8.76\n",
       "13     851769234           7.85           8.87\n",
       "14     281457639           8.21           8.57"
      ]
     },
     "execution_count": 15,
     "metadata": {},
     "output_type": "execute_result"
    }
   ],
   "source": [
    "batting_stats"
   ]
  },
  {
   "cell_type": "code",
   "execution_count": 16,
   "id": "b8ce76c0",
   "metadata": {},
   "outputs": [],
   "source": [
    "def SimGames(num_games): \n",
    "    A_wins = 0\n",
    "    B_wins = 0 \n",
    "    extra_innings = 0\n",
    "    for x in range(num_games):\n",
    "        score_a = avg_scores_team(TeamA_Transition, 1)\n",
    "        score_b = avg_scores_team(TeamB_Transition, 1)\n",
    "        if score_a > score_b:\n",
    "            A_wins += 1\n",
    "        if score_b > score_a:\n",
    "            B_wins += 1\n",
    "        if score_b == score_a:\n",
    "            extra_innings += 1\n",
    "    print(f\"Total Games: {num_games} \\n ---------------------- \\n A Wins: {A_wins} | B Wins: {B_wins} \\n Extra inning games: {extra_innings}\")"
   ]
  },
  {
   "cell_type": "code",
   "execution_count": 17,
   "id": "4a3593dd",
   "metadata": {},
   "outputs": [
    {
     "name": "stdout",
     "output_type": "stream",
     "text": [
      "Total Games: 1000 \n",
      " ---------------------- \n",
      " A Wins: 344 | B Wins: 592 \n",
      " Extra inning games: 64\n"
     ]
    }
   ],
   "source": [
    "SimGames(1000)"
   ]
  },
  {
   "cell_type": "code",
   "execution_count": null,
   "id": "aa18610e",
   "metadata": {},
   "outputs": [],
   "source": []
  }
 ],
 "metadata": {
  "kernelspec": {
   "display_name": "Python 3 (ipykernel)",
   "language": "python",
   "name": "python3"
  },
  "language_info": {
   "codemirror_mode": {
    "name": "ipython",
    "version": 3
   },
   "file_extension": ".py",
   "mimetype": "text/x-python",
   "name": "python",
   "nbconvert_exporter": "python",
   "pygments_lexer": "ipython3",
   "version": "3.9.13"
  }
 },
 "nbformat": 4,
 "nbformat_minor": 5
}
